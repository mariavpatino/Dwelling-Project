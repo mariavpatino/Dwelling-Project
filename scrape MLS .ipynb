{
 "cells": [
  {
   "cell_type": "code",
   "execution_count": 1,
   "metadata": {},
   "outputs": [
    {
     "name": "stdout",
     "output_type": "stream",
     "text": [
      "/usr/local/bin/chromedriver\r\n"
     ]
    }
   ],
   "source": [
    "from splinter import Browser\n",
    "!which chromedriver"
   ]
  },
  {
   "cell_type": "code",
   "execution_count": 2,
   "metadata": {},
   "outputs": [],
   "source": [
    "executable_path = {'executable_path': '/usr/local/bin/chromedriver'}\n",
    "browser = Browser('chrome', **executable_path, headless=False)"
   ]
  },
  {
   "cell_type": "code",
   "execution_count": 3,
   "metadata": {},
   "outputs": [],
   "source": [
    "url = 'http://www.njmls.com/m/propertysearch.html'\n",
    "browser.visit(url)"
   ]
  },
  {
   "cell_type": "code",
   "execution_count": 4,
   "metadata": {},
   "outputs": [
    {
     "name": "stdout",
     "output_type": "stream",
     "text": [
      "what zip code do you want to search?07306\n"
     ]
    }
   ],
   "source": [
    "zip_code_of_interest = input('what zip code do you want to search?')\n",
    "from bs4 import BeautifulSoup \n",
    "browser.fill('searchvalue', zip_code_of_interest)\n",
    "element = browser.find_by_name('radius').first\n",
    "element.select(\"10\")\n",
    "browser.find_by_name('proptype')[3].click()\n",
    "#browser.find_by_name('proptype')[4].click()\n",
    "#browser.find_by_name('proptype')[5].click()\n",
    "#browser.find_by_name('proptype')[6].click()\n",
    "#browser.find_by_name('proptype')[7].click()\n",
    "#browser.find_by_name('proptype')[8].click()\n",
    "#browser.find_by_name('Submit').click()"
   ]
  },
  {
   "cell_type": "code",
   "execution_count": 6,
   "metadata": {},
   "outputs": [],
   "source": [
    "browser.find_by_name('Submit').click()"
   ]
  },
  {
   "cell_type": "code",
   "execution_count": 33,
   "metadata": {},
   "outputs": [],
   "source": [
    "import pandas as pd\n",
    "html = browser.html\n",
    "soup = BeautifulSoup(html, 'html.parser')\n",
    "\n",
    "listings = soup.find_all('div', class_='listing')\n",
    "listing_dict = []\n",
    "for listing in listings: \n",
    "    try:\n",
    "        information = listing.find_all('div')[1]\n",
    "        address = information.find_all('p')[1]\n",
    "        price = information.find_all('p')[0]\n",
    "        Bed_bath = information.find_all('p')[3]\n",
    "        compiled_listing = {\"Address\" : address.text , 'Information': information.text, \"Price\": price.text, \"Bed/Bath\": Bed_bath.text}\n",
    "        listing_dict.append(compiled_listing)\n",
    "        \n",
    "    except:\n",
    "        pass\n",
    "df = pd.DataFrame(listing_dict)\n"
   ]
  },
  {
   "cell_type": "code",
   "execution_count": 34,
   "metadata": {},
   "outputs": [
    {
     "data": {
      "text/html": [
       "<div>\n",
       "<style scoped>\n",
       "    .dataframe tbody tr th:only-of-type {\n",
       "        vertical-align: middle;\n",
       "    }\n",
       "\n",
       "    .dataframe tbody tr th {\n",
       "        vertical-align: top;\n",
       "    }\n",
       "\n",
       "    .dataframe thead th {\n",
       "        text-align: right;\n",
       "    }\n",
       "</style>\n",
       "<table border=\"1\" class=\"dataframe\">\n",
       "  <thead>\n",
       "    <tr style=\"text-align: right;\">\n",
       "      <th></th>\n",
       "      <th>Address</th>\n",
       "      <th>Bed/Bath</th>\n",
       "      <th>Information</th>\n",
       "      <th>Price</th>\n",
       "    </tr>\n",
       "  </thead>\n",
       "  <tbody>\n",
       "    <tr>\n",
       "      <th>0</th>\n",
       "      <td>2  Horizon Road, Unit PH 2, Fort Lee</td>\n",
       "      <td>3 Bedroom, 3 full bath(s), 1 half bath(s)</td>\n",
       "      <td>\\n    $38,888\\n2  Horizon Road, Unit PH 2, For...</td>\n",
       "      <td>$38,888</td>\n",
       "    </tr>\n",
       "    <tr>\n",
       "      <th>1</th>\n",
       "      <td>14 East 3rd Street, Moonachie</td>\n",
       "      <td>2 Bedroom, 1 full bath(s)</td>\n",
       "      <td>\\n    $46,000\\n14 East 3rd Street, Moonachie\\n...</td>\n",
       "      <td>$46,000</td>\n",
       "    </tr>\n",
       "    <tr>\n",
       "      <th>2</th>\n",
       "      <td>66  Oak Avenue, Irvington</td>\n",
       "      <td>3 Bedroom, 1 full bath(s)</td>\n",
       "      <td>\\n    $59,000\\n66  Oak Avenue, Irvington\\nMLS ...</td>\n",
       "      <td>$59,000</td>\n",
       "    </tr>\n",
       "    <tr>\n",
       "      <th>3</th>\n",
       "      <td>220-222 South 7th Street, Newark</td>\n",
       "      <td>6 Bedroom, 2 full bath(s)</td>\n",
       "      <td>\\n    $60,000\\n220-222 South 7th Street, Newar...</td>\n",
       "      <td>$60,000</td>\n",
       "    </tr>\n",
       "    <tr>\n",
       "      <th>4</th>\n",
       "      <td>325-327  Schley Street, Newark</td>\n",
       "      <td>3 Bedroom, 1 full bath(s), 1 half bath(s)</td>\n",
       "      <td>\\n    $60,000\\n325-327  Schley Street, Newark\\...</td>\n",
       "      <td>$60,000</td>\n",
       "    </tr>\n",
       "  </tbody>\n",
       "</table>\n",
       "</div>"
      ],
      "text/plain": [
       "                                Address  \\\n",
       "0  2  Horizon Road, Unit PH 2, Fort Lee   \n",
       "1         14 East 3rd Street, Moonachie   \n",
       "2             66  Oak Avenue, Irvington   \n",
       "3      220-222 South 7th Street, Newark   \n",
       "4        325-327  Schley Street, Newark   \n",
       "\n",
       "                                    Bed/Bath  \\\n",
       "0  3 Bedroom, 3 full bath(s), 1 half bath(s)   \n",
       "1                  2 Bedroom, 1 full bath(s)   \n",
       "2                  3 Bedroom, 1 full bath(s)   \n",
       "3                  6 Bedroom, 2 full bath(s)   \n",
       "4  3 Bedroom, 1 full bath(s), 1 half bath(s)   \n",
       "\n",
       "                                         Information        Price  \n",
       "0  \\n    $38,888\\n2  Horizon Road, Unit PH 2, For...      $38,888  \n",
       "1  \\n    $46,000\\n14 East 3rd Street, Moonachie\\n...      $46,000  \n",
       "2  \\n    $59,000\\n66  Oak Avenue, Irvington\\nMLS ...      $59,000  \n",
       "3  \\n    $60,000\\n220-222 South 7th Street, Newar...      $60,000  \n",
       "4  \\n    $60,000\\n325-327  Schley Street, Newark\\...      $60,000  "
      ]
     },
     "execution_count": 34,
     "metadata": {},
     "output_type": "execute_result"
    }
   ],
   "source": [
    "df.head()"
   ]
  },
  {
   "cell_type": "code",
   "execution_count": null,
   "metadata": {},
   "outputs": [],
   "source": []
  }
 ],
 "metadata": {
  "kernelspec": {
   "display_name": "Python 3",
   "language": "python",
   "name": "python3"
  },
  "language_info": {
   "codemirror_mode": {
    "name": "ipython",
    "version": 3
   },
   "file_extension": ".py",
   "mimetype": "text/x-python",
   "name": "python",
   "nbconvert_exporter": "python",
   "pygments_lexer": "ipython3",
   "version": "3.6.6"
  }
 },
 "nbformat": 4,
 "nbformat_minor": 2
}
