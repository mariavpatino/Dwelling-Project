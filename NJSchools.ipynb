{
 "cells": [
  {
   "cell_type": "code",
   "execution_count": 1,
   "metadata": {},
   "outputs": [],
   "source": [
    "# Dependencies\n",
    "import requests\n",
    "import json\n",
    "from pprint import pprint\n",
    "from config import appKey\n",
    "from config import appID"
   ]
  },
  {
   "cell_type": "code",
   "execution_count": 2,
   "metadata": {},
   "outputs": [
    {
     "data": {
      "text/plain": [
       "'https://api.schooldigger.com/v1.2/rankings/schools/NJ?level=High&perPage=50&appID=398e90c0&appKey=e24c58a55fcb4e29d3fe56563a237605'"
      ]
     },
     "execution_count": 2,
     "metadata": {},
     "output_type": "execute_result"
    }
   ],
   "source": [
    "# URLs \n",
    "#url_elementary = \"https://api.schooldigger.com/v1.2/rankings/schools/NJ?level=Elementary&perPage=50&appID=\"\n",
    "url_high_schools = \"https://api.schooldigger.com/v1.2/rankings/schools/NJ?level=High&perPage=50&appID=\"\n",
    "\n",
    "#query_elementary = url_elementary + appID + \"&appKey=\" + appKey\n",
    "query_high_schools = url_high_schools + appID + \"&appKey=\" + appKey\n",
    "query_high_schools"
   ]
  },
  {
   "cell_type": "code",
   "execution_count": null,
   "metadata": {
    "scrolled": true
   },
   "outputs": [],
   "source": [
    "# Requests (Elementery/High School)\n",
    "#response_elementary = requests.get(query_elementary).json()\n",
    "response_high_school = requests.get(query_high_schools).json()"
   ]
  },
  {
   "cell_type": "code",
   "execution_count": null,
   "metadata": {},
   "outputs": [],
   "source": [
    "# Elementary School List\n",
    "elementary_id_list = [school for school in response_elementary[\"schoolList\"]]\n",
    "pprint(elementary_id_list)"
   ]
  },
  {
   "cell_type": "code",
   "execution_count": null,
   "metadata": {},
   "outputs": [],
   "source": [
    "# Elementary School Info\n",
    "print(\"Elementary school ranking\")\n",
    "for school in elementary_id_list:\n",
    "    print(school[\"rankHistory\"][0][\"rank\"])\n",
    "    print(school[\"schoolName\"])\n",
    "    print(school[\"address\"][\"city\"])\n",
    "    print(school[\"address\"][\"latLong\"])"
   ]
  },
  {
   "cell_type": "code",
   "execution_count": null,
   "metadata": {},
   "outputs": [],
   "source": [
    "# HighSchool List\n",
    "high_id_list = [school for school in response_high_school[\"schoolList\"]]\n",
    "pprint(high_id_list)"
   ]
  },
  {
   "cell_type": "code",
   "execution_count": null,
   "metadata": {},
   "outputs": [],
   "source": [
    "# High School Info\n",
    "print(\"High school ranking\")\n",
    "for school in high_id_list:\n",
    "    print(school[\"rankHistory\"][0][\"rank\"])\n",
    "    print(school[\"schoolName\"])\n",
    "    print(school[\"address\"][\"city\"])\n",
    "    print(school[\"address\"][\"latLong\"])"
   ]
  },
  {
   "cell_type": "code",
   "execution_count": null,
   "metadata": {},
   "outputs": [],
   "source": []
  }
 ],
 "metadata": {
  "kernelspec": {
   "display_name": "Python 3",
   "language": "python",
   "name": "python3"
  },
  "language_info": {
   "codemirror_mode": {
    "name": "ipython",
    "version": 3
   },
   "file_extension": ".py",
   "mimetype": "text/x-python",
   "name": "python",
   "nbconvert_exporter": "python",
   "pygments_lexer": "ipython3",
   "version": "3.7.3"
  }
 },
 "nbformat": 4,
 "nbformat_minor": 2
}
