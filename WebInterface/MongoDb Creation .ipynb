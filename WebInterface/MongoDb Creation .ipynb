{
 "cells": [
  {
   "cell_type": "code",
   "execution_count": 2,
   "metadata": {},
   "outputs": [],
   "source": [
    "import pandas as pd\n",
    "import pymongo\n",
    "from pymongo import MongoClient\n",
    "\n",
    "\n",
    "client = pymongo.MongoClient('localhost', 27017)\n",
    "client.drop_database('Dwelling_db')\n",
    "db = client.Dwelling_db \n",
    "high_school = db.high_school\n",
    "realestate_listings = db.realestate_listings\n",
    "Bus_stops = db.Bus_stops\n",
    "Rail_stops = db.Rail_stops\n",
    "\n",
    "def export_content(filepath, collection):\n",
    "    Collection = db.collection\n",
    "    data = pd.read_csv(filepath)\n",
    "    records_ = data.to_dict(orient = 'records')\n",
    "    collection.insert_many(records_)\n"
   ]
  },
  {
   "cell_type": "code",
   "execution_count": 3,
   "metadata": {
    "scrolled": true
   },
   "outputs": [
    {
     "name": "stdout",
     "output_type": "stream",
     "text": [
      "Collection(Database(MongoClient(host=['localhost:27017'], document_class=dict, tz_aware=False, connect=True), 'Dwelling_db'), 'high_school')\n",
      "Collection(Database(MongoClient(host=['localhost:27017'], document_class=dict, tz_aware=False, connect=True), 'Dwelling_db'), 'realestate_listings')\n",
      "Collection(Database(MongoClient(host=['localhost:27017'], document_class=dict, tz_aware=False, connect=True), 'Dwelling_db'), 'Bus_stops')\n",
      "Collection(Database(MongoClient(host=['localhost:27017'], document_class=dict, tz_aware=False, connect=True), 'Dwelling_db'), 'Rail_stops')\n"
     ]
    }
   ],
   "source": [
    "# Create list of filepaths and the collection they will need to be imported to \n",
    "personal = '/Users/omarkreidieh/Documents/'\n",
    "Directories= [{'filepath': f'{personal}GitHub/Dwelling-Project/WebInterface/static/data/SchoolRankings/SchoolsData/high_school_df.csv', 'collection': high_school}, {'filepath': './House Data/houses_df.csv', 'collection':realestate_listings }, {'filepath': './NJ Transit Data/Bus - Stops - Final.csv', 'collection': Bus_stops}, {'filepath': './NJ Transit Data/Rail - Stops - Final.csv', 'collection': Rail_stops} ]\n",
    "for dictionary in Directories:\n",
    "    filepath = dictionary['filepath']\n",
    "    collection = dictionary['collection']\n",
    "    print(collection)\n",
    "    export_content(filepath, collection)"
   ]
  },
  {
   "cell_type": "code",
   "execution_count": null,
   "metadata": {},
   "outputs": [],
   "source": [
    "# Only run first two. The items below are to check code is working if needed "
   ]
  },
  {
   "cell_type": "code",
   "execution_count": null,
   "metadata": {},
   "outputs": [],
   "source": [
    "cols = db.collection_names()\n",
    "for c in cols:\n",
    "    print(c)"
   ]
  },
  {
   "cell_type": "code",
   "execution_count": null,
   "metadata": {},
   "outputs": [],
   "source": [
    "listings = db.Bus_stops.find()\n",
    "for listing in listings:\n",
    "    print(listing)"
   ]
  },
  {
   "cell_type": "code",
   "execution_count": null,
   "metadata": {},
   "outputs": [],
   "source": []
  },
  {
   "cell_type": "code",
   "execution_count": null,
   "metadata": {},
   "outputs": [],
   "source": []
  },
  {
   "cell_type": "code",
   "execution_count": null,
   "metadata": {},
   "outputs": [],
   "source": []
  },
  {
   "cell_type": "code",
   "execution_count": null,
   "metadata": {},
   "outputs": [],
   "source": []
  }
 ],
 "metadata": {
  "kernelspec": {
   "display_name": "Python 3",
   "language": "python",
   "name": "python3"
  },
  "language_info": {
   "codemirror_mode": {
    "name": "ipython",
    "version": 3
   },
   "file_extension": ".py",
   "mimetype": "text/x-python",
   "name": "python",
   "nbconvert_exporter": "python",
   "pygments_lexer": "ipython3",
   "version": "3.6.6"
  }
 },
 "nbformat": 4,
 "nbformat_minor": 2
}
