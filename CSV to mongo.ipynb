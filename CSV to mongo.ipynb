{
 "cells": [
  {
   "cell_type": "code",
   "execution_count": 1,
   "metadata": {},
   "outputs": [],
   "source": [
    "import pandas as pd\n",
    "import pymongo\n",
    "\n",
    "\n",
    "\n",
    "def export_content(filepath, collection):\n",
    "    client = pymongo.MongoClient('localhost', 27017)\n",
    "    db = client.Dwelling_db \n",
    "    Collection = db.collection\n",
    "    data = pd.read_csv(filepath)\n",
    "    records_ = data.to_dict(orient = 'records')\n",
    "    Collection.insert_many(records_)\n"
   ]
  },
  {
   "cell_type": "code",
   "execution_count": 6,
   "metadata": {
    "scrolled": true
   },
   "outputs": [],
   "source": [
    "# Create list of filepaths and the collection they will need to be imported to \n",
    "personal = '/Users/omarkreidieh/Documents/'\n",
    "Directories= [{'filepath': './School Rankings/Schools Data/elementary_df.csv', 'collection': 'elementary'}, {'filepath': './School Rankings/Schools Data/high_school_df.csv', 'collection': 'high_school'}, {'filepath': './House Data/houses_df.csv', 'collection':'realestate_listings' }, {'filepath': './NJ Transit Data/Bus - Stops - Final.csv', 'collection': 'Bus_stops'}, {'filepath': './NJ Transit Data/Rail - Stops - Final.csv', 'collection': 'Rail_stops'} ]\n",
    "for dictionary in Directories:\n",
    "    filepath = dictionary['filepath']\n",
    "    collection = dictionary['collection']\n",
    "\n",
    "    export_content(filepath, collection)"
   ]
  },
  {
   "cell_type": "code",
   "execution_count": null,
   "metadata": {},
   "outputs": [],
   "source": []
  },
  {
   "cell_type": "code",
   "execution_count": null,
   "metadata": {},
   "outputs": [],
   "source": []
  },
  {
   "cell_type": "code",
   "execution_count": null,
   "metadata": {},
   "outputs": [],
   "source": []
  },
  {
   "cell_type": "code",
   "execution_count": null,
   "metadata": {},
   "outputs": [],
   "source": []
  },
  {
   "cell_type": "code",
   "execution_count": null,
   "metadata": {},
   "outputs": [],
   "source": []
  },
  {
   "cell_type": "code",
   "execution_count": null,
   "metadata": {},
   "outputs": [],
   "source": []
  }
 ],
 "metadata": {
  "kernelspec": {
   "display_name": "Python 3",
   "language": "python",
   "name": "python3"
  },
  "language_info": {
   "codemirror_mode": {
    "name": "ipython",
    "version": 3
   },
   "file_extension": ".py",
   "mimetype": "text/x-python",
   "name": "python",
   "nbconvert_exporter": "python",
   "pygments_lexer": "ipython3",
   "version": "3.7.4"
  }
 },
 "nbformat": 4,
 "nbformat_minor": 2
}
